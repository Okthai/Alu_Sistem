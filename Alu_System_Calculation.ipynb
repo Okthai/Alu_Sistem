{
  "nbformat": 4,
  "nbformat_minor": 0,
  "metadata": {
    "colab": {
      "provenance": [],
      "gpuType": "T4"
    },
    "kernelspec": {
      "name": "python3",
      "display_name": "Python 3"
    },
    "language_info": {
      "name": "python"
    },
    "gpuClass": "standard"
  },
  "cells": [
    {
      "cell_type": "code",
      "source": [
        "usd = 19.21"
      ],
      "metadata": {
        "id": "vFQcHCi03KqO"
      },
      "execution_count": null,
      "outputs": []
    },
    {
      "cell_type": "code",
      "source": [],
      "metadata": {
        "id": "UMN7o3X5GS3K"
      },
      "execution_count": null,
      "outputs": []
    },
    {
      "cell_type": "code",
      "execution_count": null,
      "metadata": {
        "id": "N3PGpHAstv1p"
      },
      "outputs": [],
      "source": [
        "# Aluminyum fiyatı ($ / kg)\n",
        "alu = 2282 / 1000"
      ]
    },
    {
      "cell_type": "code",
      "source": [
        "# Toz boya fiyatı ($ / kg)\n",
        "boya_toz = 10.6"
      ],
      "metadata": {
        "id": "5EZndAMr48rR"
      },
      "execution_count": null,
      "outputs": []
    },
    {
      "cell_type": "code",
      "source": [
        "# Cam fiyatları ($ / m2)\n",
        "glass_4mm = 16\n",
        "glass_6mm = 18\n",
        "glass_8mm = 28"
      ],
      "metadata": {
        "id": "SVi7Y-AwBNN7"
      },
      "execution_count": null,
      "outputs": []
    },
    {
      "cell_type": "code",
      "source": [
        "# 1kg boya ile boyanabilen yüzey (m2)\n",
        "boya_utility = 6"
      ],
      "metadata": {
        "id": "LNoItUOw57pX"
      },
      "execution_count": null,
      "outputs": []
    },
    {
      "cell_type": "code",
      "source": [
        "def kolon(length, perimeter, count):\n",
        "  area = (perimeter * length) / 1000\n",
        "  boy_kesme = 0.2\n",
        "  dis_acma = 0.1 * 6\n",
        "  boyama = area * 0.8\n",
        "  kgm = 1.346\n",
        "  hammadde = length * kgm * alu\n",
        "  boya = (area / boya_utility) * boya_toz\n",
        "  iscilik = boy_kesme + dis_acma + boyama\n",
        "  return (hammadde + boya + iscilik) * count"
      ],
      "metadata": {
        "id": "VSOprdXWxbZ2"
      },
      "execution_count": null,
      "outputs": []
    },
    {
      "cell_type": "code",
      "source": [
        "def raf_80d(count):\n",
        "  # Alüminyum malzeme maliyeti\n",
        "  raf_side_raw = 0.34 * 0.27 * alu * 2 \n",
        "  raf_f_raw = 0.79 * 0.39 * alu\n",
        "  raf_b_raw = 0.79 * 0.507 * alu\n",
        "  hammadde = raf_side_raw + raf_f_raw + raf_b_raw\n",
        "\n",
        "  # Alanların hesabı : (Kesit çevre(mm) * Boy(mt)) /1000\n",
        "  raf_f_area = (89.31 * 0.79) / 1000\n",
        "  raf_b_area = (128.45 * 0.79) / 1000\n",
        "  raf_side_area = ((49.57 * 0.34) / 1000) * 2\n",
        "  areas = raf_f_area + raf_b_area + raf_side_area\n",
        "  glass_area = 0.8 * 0.35\n",
        "  glass_perimeter = (0.8 + 0.35) * 2\n",
        "\n",
        "  # Toz boya miktarı\n",
        "  boya = (areas / boya_utility) * boya_toz\n",
        "\n",
        "  # Cam malzeme maliyeti\n",
        "  glass_price = glass_6mm * glass_area\n",
        "\n",
        "  # İşçilikler\n",
        "  delik_delme = 0.1 * 12\n",
        "  havsa_acma = 0.1 * 12\n",
        "  boy_kesme = 0.8\n",
        "  dis_acma = 0.1 * 8\n",
        "  boyama = areas * 0.8\n",
        "  temper = glass_area * 2.8\n",
        "  rodaj = glass_perimeter * 2.5\n",
        "\n",
        "  iscilik = sum([delik_delme, havsa_acma, boy_kesme, dis_acma, boyama, temper,rodaj])\n",
        "\n",
        "  print(\"Alüminyumlar:\",round(hammadde*count,2),\"$\")\n",
        "  print(\"Cam:\",round(glass_price*count,2),\"$\")\n",
        "  print(\"İşçilik:\",round(iscilik*count,2),\"$\")\n",
        "  print(\"Rafların toplam fiyatı:\",round((hammadde + glass_price + boya + iscilik) * count,2),\"$\")"
      ],
      "metadata": {
        "id": "WKY5i20NNUxo"
      },
      "execution_count": null,
      "outputs": []
    },
    {
      "cell_type": "code",
      "source": [
        "kolonlar = kolon(length=2.445, perimeter=302.85, count=5)\n",
        "kolonlar"
      ],
      "metadata": {
        "colab": {
          "base_uri": "https://localhost:8080/"
        },
        "id": "-3Kovt9eyAPu",
        "outputId": "8d0564da-6f63-454d-98d1-62f30af43c76"
      },
      "execution_count": null,
      "outputs": [
        {
          "output_type": "execute_result",
          "data": {
            "text/plain": [
              "51.052643575000005"
            ]
          },
          "metadata": {},
          "execution_count": 53
        }
      ]
    },
    {
      "cell_type": "code",
      "source": [
        "raflar_d = raf_80d(5)\n"
      ],
      "metadata": {
        "colab": {
          "base_uri": "https://localhost:8080/"
        },
        "id": "1UfGJj-7hu6m",
        "outputId": "a0274ffe-3b92-457c-8a97-167f41e55c39"
      },
      "execution_count": null,
      "outputs": [
        {
          "output_type": "stream",
          "name": "stdout",
          "text": [
            "Alüminyumlar: 10.18 $\n",
            "Cam: 25.2 $\n",
            "İşçilik: 53.49 $\n",
            "Rafların toplam fiyatı: 90.69 $\n"
          ]
        }
      ]
    },
    {
      "cell_type": "code",
      "source": [],
      "metadata": {
        "id": "RchrIqOnEyxt"
      },
      "execution_count": null,
      "outputs": []
    }
  ]
}